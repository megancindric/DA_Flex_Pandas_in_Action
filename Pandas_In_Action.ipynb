{
 "cells": [
  {
   "cell_type": "markdown",
   "metadata": {},
   "source": [
    "## Lab: Pandas In Action\n",
    "\n",
    "##### Project overview here :)\n",
    "* Below will be a series of questions, followed by an empty Python and Markdown block.\n",
    "    * Use the Python code block to write your answers to each question.\n",
    "        * Once completed, select the play button to the left of the code block to execute your solution.\n",
    "        * The output will display below the code block.  Be sure to test and debug as you go to ensure you get the desired output for each question!\n",
    "    * Use the markdown block below each question to describe your solution steps and/or problem solving process\n",
    "        * Use `monospace font` for any variable or function names <br>\n",
    "        * Use **bold** or *italicized* text to add emphasis to a word or phrase <br>\n",
    "        * You can also annotate your code within the Python blocks, using comments!\n",
    "<br>"
   ]
  },
  {
   "cell_type": "markdown",
   "metadata": {},
   "source": [
    "## Imports\n",
    "* Use the correct statement to import the Pandas library into your current file"
   ]
  },
  {
   "cell_type": "code",
   "execution_count": 2,
   "metadata": {},
   "outputs": [],
   "source": [
    "# Set up your imports\n",
    "import pandas as pd"
   ]
  },
  {
   "cell_type": "markdown",
   "metadata": {},
   "source": [
    "## Series From Lists\n",
    "* Using the following List, create a new Pandas Series, and save it as the variable `list_series`\n",
    "    * Then, print this Series to the terminal"
   ]
  },
  {
   "cell_type": "code",
   "execution_count": 3,
   "metadata": {},
   "outputs": [
    {
     "name": "stdout",
     "output_type": "stream",
     "text": [
      "0        apple\n",
      "1       banana\n",
      "2    cantalope\n",
      "3       durian\n",
      "dtype: object\n"
     ]
    }
   ],
   "source": [
    "# Create a series from a LIST\n",
    "my_list = [\"apple\", \"banana\",\"cantalope\",\"durian\"]\n",
    "list_series = pd.Series(my_list)\n",
    "print(list_series)"
   ]
  },
  {
   "cell_type": "markdown",
   "metadata": {},
   "source": [
    "* Print the value at index 1 of `list_series` to the terminal"
   ]
  },
  {
   "cell_type": "code",
   "execution_count": 4,
   "metadata": {},
   "outputs": [
    {
     "name": "stdout",
     "output_type": "stream",
     "text": [
      "banana\n"
     ]
    }
   ],
   "source": [
    "print(list_series[1])"
   ]
  },
  {
   "cell_type": "markdown",
   "metadata": {},
   "source": [
    "* Using the **SAME** variable `my_list`, create a **new** Pandas Series\n",
    "    * Create specific labels for this series, corresponding to the **first letter** of each value\n",
    "    * Example: \"A\" --> \"apple\", \"B\" --> \"banana\"\n",
    "    * Save this series as the variable `index_series`\n",
    "    * Then, print the value at index \"C\" of `index_series` to the terminal"
   ]
  },
  {
   "cell_type": "code",
   "execution_count": 5,
   "metadata": {},
   "outputs": [
    {
     "name": "stdout",
     "output_type": "stream",
     "text": [
      "cantalope\n"
     ]
    }
   ],
   "source": [
    "# Add index labels for your series\n",
    "index_series = pd.Series(my_list, index=['A','B','C','D'])\n",
    "print(index_series[\"C\"])"
   ]
  },
  {
   "cell_type": "markdown",
   "metadata": {},
   "source": [
    "### Series From Dictionary\n",
    "* Using the following Dictionary, create a new Pandas Series, and save it as the variable `dictionary_series`\n",
    "    * Then, print the value at index \"Tuesday\" to the terminal"
   ]
  },
  {
   "cell_type": "code",
   "execution_count": 6,
   "metadata": {},
   "outputs": [
    {
     "name": "stdout",
     "output_type": "stream",
     "text": [
      "4 hours\n"
     ]
    }
   ],
   "source": [
    "# Create a series from a DICTIONARY\n",
    "my_dictionary = {\n",
    "    \"Monday\": \"8 hours\",\n",
    "    \"Tuesday\": \"4 hours\",\n",
    "    \"Wednesday\": \"6 hours\"\n",
    "}\n",
    "dictionary_series = pd.Series(my_dictionary)\n",
    "print(dictionary_series[\"Tuesday\"])\n"
   ]
  },
  {
   "cell_type": "markdown",
   "metadata": {},
   "source": [
    "## DataFrames\n",
    "* Using the following Dictionary, create a new Pandas DataFrame, and save it as the variable `my_dataframe`\n",
    "    * Print this new DataFrame to the terminal"
   ]
  },
  {
   "cell_type": "code",
   "execution_count": 7,
   "metadata": {},
   "outputs": [
    {
     "name": "stdout",
     "output_type": "stream",
     "text": [
      "                      course  credits\n",
      "0                 Pandas 101        5\n",
      "1  Underwater Basket Weaving        8\n",
      "2              Tree Climbing        6\n",
      "3              Cryptozoology        8\n"
     ]
    }
   ],
   "source": [
    "# Create a DataFrame from a Dictionary\n",
    "course_dictionary = {\n",
    "    'course':[\"Pandas 101\",\"Underwater Basket Weaving\",\"Tree Climbing\",\"Cryptozoology\"],\n",
    "    'credits':[5, 8, 6, 8]\n",
    "}\n",
    "my_dataframe = pd.DataFrame(course_dictionary)\n",
    "print(my_dataframe)"
   ]
  },
  {
   "cell_type": "markdown",
   "metadata": {},
   "source": [
    "* Locate the row at index 2, and print it to the terminal"
   ]
  },
  {
   "cell_type": "code",
   "execution_count": 8,
   "metadata": {},
   "outputs": [
    {
     "name": "stdout",
     "output_type": "stream",
     "text": [
      "course     Tree Climbing\n",
      "credits                6\n",
      "Name: 2, dtype: object\n"
     ]
    }
   ],
   "source": [
    "# Access a specific row using .loc with index number\n",
    "print(my_dataframe.loc[2])"
   ]
  },
  {
   "cell_type": "markdown",
   "metadata": {},
   "source": [
    "* Locate the rows at index 0 and 3, and print both to the terminal"
   ]
  },
  {
   "cell_type": "code",
   "execution_count": 9,
   "metadata": {},
   "outputs": [
    {
     "name": "stdout",
     "output_type": "stream",
     "text": [
      "          course  credits\n",
      "0     Pandas 101        5\n",
      "3  Cryptozoology        8\n"
     ]
    }
   ],
   "source": [
    "print(my_dataframe.loc[[0,3]])"
   ]
  },
  {
   "cell_type": "markdown",
   "metadata": {},
   "source": [
    "* Using the following Dictionary, create a new Pandas DataFrame\n",
    "    * Use the `named_indexes` variable as the *named indexes* of the DataFrame\n",
    "    * Save this DataFrame as the variable `named_dataframe`\n",
    "    * Then, print the DataFrame to the terminal"
   ]
  },
  {
   "cell_type": "code",
   "execution_count": 10,
   "metadata": {},
   "outputs": [
    {
     "name": "stdout",
     "output_type": "stream",
     "text": [
      "         color  quantity  total cost\n",
      "order1     red         2          20\n",
      "order2    blue         1          10\n",
      "order3   green         2          20\n",
      "order4  purple         3          30\n"
     ]
    }
   ],
   "source": [
    "# Create a DataFrame with named indexes\n",
    "order_dictionary = {\n",
    "    'color': [\"red\",\"blue\",\"green\",\"purple\"],\n",
    "    'quantity': [2,1,2,3],\n",
    "    'total cost': [20,10,20,30]\n",
    "}\n",
    "\n",
    "named_indexes = [\"order1\",\"order2\",\"order3\",\"order4\"]\n",
    "\n",
    "named_dataframe = pd.DataFrame(order_dictionary, index=named_indexes)\n",
    "\n",
    "print(named_dataframe)"
   ]
  },
  {
   "cell_type": "markdown",
   "metadata": {},
   "source": [
    "* Locate the row at the index `order4`, and print it to the terminal"
   ]
  },
  {
   "cell_type": "code",
   "execution_count": 11,
   "metadata": {},
   "outputs": [
    {
     "name": "stdout",
     "output_type": "stream",
     "text": [
      "color         purple\n",
      "quantity           3\n",
      "total cost        30\n",
      "Name: order4, dtype: object\n"
     ]
    }
   ],
   "source": [
    "# Access a specific row using .loc with named index\n",
    "print(named_dataframe.loc[\"order4\"])"
   ]
  },
  {
   "cell_type": "markdown",
   "metadata": {},
   "source": [
    "## Analyzing DataFrames\n",
    "##### Use your `named_dataframe` variable for the following questions\n",
    "* Print the **first three rows** of the DataFrame to the terminal"
   ]
  },
  {
   "cell_type": "code",
   "execution_count": 12,
   "metadata": {},
   "outputs": [
    {
     "data": {
      "text/html": [
       "<div>\n",
       "<style scoped>\n",
       "    .dataframe tbody tr th:only-of-type {\n",
       "        vertical-align: middle;\n",
       "    }\n",
       "\n",
       "    .dataframe tbody tr th {\n",
       "        vertical-align: top;\n",
       "    }\n",
       "\n",
       "    .dataframe thead th {\n",
       "        text-align: right;\n",
       "    }\n",
       "</style>\n",
       "<table border=\"1\" class=\"dataframe\">\n",
       "  <thead>\n",
       "    <tr style=\"text-align: right;\">\n",
       "      <th></th>\n",
       "      <th>color</th>\n",
       "      <th>quantity</th>\n",
       "      <th>total cost</th>\n",
       "    </tr>\n",
       "  </thead>\n",
       "  <tbody>\n",
       "    <tr>\n",
       "      <th>order1</th>\n",
       "      <td>red</td>\n",
       "      <td>2</td>\n",
       "      <td>20</td>\n",
       "    </tr>\n",
       "    <tr>\n",
       "      <th>order2</th>\n",
       "      <td>blue</td>\n",
       "      <td>1</td>\n",
       "      <td>10</td>\n",
       "    </tr>\n",
       "    <tr>\n",
       "      <th>order3</th>\n",
       "      <td>green</td>\n",
       "      <td>2</td>\n",
       "      <td>20</td>\n",
       "    </tr>\n",
       "  </tbody>\n",
       "</table>\n",
       "</div>"
      ],
      "text/plain": [
       "        color  quantity  total cost\n",
       "order1    red         2          20\n",
       "order2   blue         1          10\n",
       "order3  green         2          20"
      ]
     },
     "execution_count": 12,
     "metadata": {},
     "output_type": "execute_result"
    }
   ],
   "source": [
    "named_dataframe.head(3)"
   ]
  },
  {
   "cell_type": "markdown",
   "metadata": {},
   "source": [
    "* Print the **last row** of the DataFrame to the terminal"
   ]
  },
  {
   "cell_type": "code",
   "execution_count": 13,
   "metadata": {},
   "outputs": [
    {
     "data": {
      "text/html": [
       "<div>\n",
       "<style scoped>\n",
       "    .dataframe tbody tr th:only-of-type {\n",
       "        vertical-align: middle;\n",
       "    }\n",
       "\n",
       "    .dataframe tbody tr th {\n",
       "        vertical-align: top;\n",
       "    }\n",
       "\n",
       "    .dataframe thead th {\n",
       "        text-align: right;\n",
       "    }\n",
       "</style>\n",
       "<table border=\"1\" class=\"dataframe\">\n",
       "  <thead>\n",
       "    <tr style=\"text-align: right;\">\n",
       "      <th></th>\n",
       "      <th>color</th>\n",
       "      <th>quantity</th>\n",
       "      <th>total cost</th>\n",
       "    </tr>\n",
       "  </thead>\n",
       "  <tbody>\n",
       "    <tr>\n",
       "      <th>order3</th>\n",
       "      <td>green</td>\n",
       "      <td>2</td>\n",
       "      <td>20</td>\n",
       "    </tr>\n",
       "    <tr>\n",
       "      <th>order4</th>\n",
       "      <td>purple</td>\n",
       "      <td>3</td>\n",
       "      <td>30</td>\n",
       "    </tr>\n",
       "  </tbody>\n",
       "</table>\n",
       "</div>"
      ],
      "text/plain": [
       "         color  quantity  total cost\n",
       "order3   green         2          20\n",
       "order4  purple         3          30"
      ]
     },
     "execution_count": 13,
     "metadata": {},
     "output_type": "execute_result"
    }
   ],
   "source": [
    "named_dataframe.tail(2)"
   ]
  },
  {
   "cell_type": "markdown",
   "metadata": {},
   "source": [
    "* Use the appropriate function to display the **data type** of each column in our DataFrame"
   ]
  },
  {
   "cell_type": "code",
   "execution_count": 14,
   "metadata": {},
   "outputs": [
    {
     "data": {
      "text/plain": [
       "color         object\n",
       "quantity       int64\n",
       "total cost     int64\n",
       "dtype: object"
      ]
     },
     "execution_count": 14,
     "metadata": {},
     "output_type": "execute_result"
    }
   ],
   "source": [
    "named_dataframe.dtypes"
   ]
  },
  {
   "cell_type": "markdown",
   "metadata": {},
   "source": [
    "### DataFrames from .csv Files\n",
    "* Use Pandas to import the file `pandas_in_action.csv` into a DataFrame\n",
    "* Name this variable `csv_dataframe`"
   ]
  },
  {
   "cell_type": "code",
   "execution_count": null,
   "metadata": {},
   "outputs": [],
   "source": []
  },
  {
   "cell_type": "markdown",
   "metadata": {},
   "source": [
    "* Export your "
   ]
  }
 ],
 "metadata": {
  "kernelspec": {
   "display_name": "Python 3.10.5 64-bit",
   "language": "python",
   "name": "python3"
  },
  "language_info": {
   "codemirror_mode": {
    "name": "ipython",
    "version": 3
   },
   "file_extension": ".py",
   "mimetype": "text/x-python",
   "name": "python",
   "nbconvert_exporter": "python",
   "pygments_lexer": "ipython3",
   "version": "3.10.5"
  },
  "orig_nbformat": 4,
  "vscode": {
   "interpreter": {
    "hash": "991b4f12e3cd7e62d84ec965b56412c4354ac1fe6297d96f50a80e713193dd77"
   }
  }
 },
 "nbformat": 4,
 "nbformat_minor": 2
}
