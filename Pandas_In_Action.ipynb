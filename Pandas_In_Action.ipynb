{
 "cells": [
  {
   "cell_type": "markdown",
   "metadata": {},
   "source": [
    "## Lab: Pandas In Action\n",
    "\n",
    "##### Project overview here :)\n",
    "* Below will be a series of questions, followed by an empty Python and Markdown block.\n",
    "    * Use the Python code block to write your answers to each question.\n",
    "        * Once completed, select the play button to the left of the code block to execute your solution.\n",
    "        * The output will display below the code block.  Be sure to test and debug as you go to ensure you get the desired output for each question!\n",
    "<br>"
   ]
  },
  {
   "cell_type": "markdown",
   "metadata": {},
   "source": [
    "## Imports\n",
    "* Use the correct statement to import the Pandas library into your current file"
   ]
  },
  {
   "cell_type": "code",
   "execution_count": 62,
   "metadata": {},
   "outputs": [],
   "source": [
    "# Set up your imports\n",
    "import pandas as pd"
   ]
  },
  {
   "cell_type": "markdown",
   "metadata": {},
   "source": [
    "## Series From Lists\n",
    "* Using the following List, create a new Pandas Series, and save it as the variable `list_series`\n",
    "    * Then, print this Series to the terminal"
   ]
  },
  {
   "cell_type": "code",
   "execution_count": 63,
   "metadata": {},
   "outputs": [
    {
     "name": "stdout",
     "output_type": "stream",
     "text": [
      "0        apple\n",
      "1       banana\n",
      "2    cantalope\n",
      "3       durian\n",
      "dtype: object\n"
     ]
    }
   ],
   "source": [
    "# Create a series from a LIST\n",
    "my_list = [\"apple\", \"banana\",\"cantalope\",\"durian\"]\n",
    "\n",
    "list_series = pd.Series(my_list)\n",
    "print(list_series)"
   ]
  },
  {
   "cell_type": "markdown",
   "metadata": {},
   "source": [
    "* Print the value at index 1 of `list_series` to the terminal"
   ]
  },
  {
   "cell_type": "code",
   "execution_count": 64,
   "metadata": {},
   "outputs": [
    {
     "name": "stdout",
     "output_type": "stream",
     "text": [
      "banana\n"
     ]
    }
   ],
   "source": [
    "print(list_series[1])"
   ]
  },
  {
   "cell_type": "markdown",
   "metadata": {},
   "source": [
    "* Using the **SAME** variable `my_list`, create a **new** Pandas Series\n",
    "    * Create specific labels for this series, corresponding to the **first letter** of each value\n",
    "    * Example: \"A\" --> \"apple\", \"B\" --> \"banana\"\n",
    "    * Save this series as the variable `index_series`\n",
    "    * Then, print the value at index \"C\" of `index_series` to the terminal"
   ]
  },
  {
   "cell_type": "code",
   "execution_count": 65,
   "metadata": {},
   "outputs": [
    {
     "name": "stdout",
     "output_type": "stream",
     "text": [
      "cantalope\n"
     ]
    }
   ],
   "source": [
    "# Add index labels for your series\n",
    "index_series = pd.Series(my_list, index=['A','B','C','D'])\n",
    "print(index_series[\"C\"])"
   ]
  },
  {
   "cell_type": "markdown",
   "metadata": {},
   "source": [
    "### Series From Dictionary\n",
    "* Using the following Dictionary, create a new Pandas Series, and save it as the variable `dictionary_series`\n",
    "    * Then, print the value at index \"Tuesday\" to the terminal"
   ]
  },
  {
   "cell_type": "code",
   "execution_count": 66,
   "metadata": {},
   "outputs": [
    {
     "name": "stdout",
     "output_type": "stream",
     "text": [
      "4 hours\n"
     ]
    }
   ],
   "source": [
    "# Create a series from a DICTIONARY\n",
    "my_dictionary = {\n",
    "    \"Monday\": \"8 hours\",\n",
    "    \"Tuesday\": \"4 hours\",\n",
    "    \"Wednesday\": \"6 hours\"\n",
    "}\n",
    "\n",
    "dictionary_series = pd.Series(my_dictionary)\n",
    "print(dictionary_series[\"Tuesday\"])\n"
   ]
  },
  {
   "cell_type": "markdown",
   "metadata": {},
   "source": [
    "## DataFrames\n",
    "* Using the following Dictionary, create a new Pandas DataFrame, and save it as the variable `my_dataframe`\n",
    "    * Print this new DataFrame to the terminal"
   ]
  },
  {
   "cell_type": "code",
   "execution_count": 67,
   "metadata": {},
   "outputs": [
    {
     "name": "stdout",
     "output_type": "stream",
     "text": [
      "                      course  credits\n",
      "0                 Pandas 101        5\n",
      "1  Underwater Basket Weaving        8\n",
      "2              Tree Climbing        6\n",
      "3              Cryptozoology        8\n"
     ]
    }
   ],
   "source": [
    "# Create a DataFrame from a Dictionary\n",
    "course_dictionary = {\n",
    "    'course':[\"Pandas 101\",\"Underwater Basket Weaving\",\"Tree Climbing\",\"Cryptozoology\"],\n",
    "    'credits':[5, 8, 6, 8]\n",
    "}\n",
    "\n",
    "my_dataframe = pd.DataFrame(course_dictionary)\n",
    "print(my_dataframe)"
   ]
  },
  {
   "cell_type": "markdown",
   "metadata": {},
   "source": [
    "* Locate the row at index 2, and print it to the terminal"
   ]
  },
  {
   "cell_type": "code",
   "execution_count": 68,
   "metadata": {},
   "outputs": [
    {
     "name": "stdout",
     "output_type": "stream",
     "text": [
      "course     Tree Climbing\n",
      "credits                6\n",
      "Name: 2, dtype: object\n"
     ]
    }
   ],
   "source": [
    "# Access a specific row using .loc with index number\n",
    "print(my_dataframe.loc[2])"
   ]
  },
  {
   "cell_type": "markdown",
   "metadata": {},
   "source": [
    "* Locate the rows at index 0 and 3, and print both to the terminal"
   ]
  },
  {
   "cell_type": "code",
   "execution_count": 69,
   "metadata": {},
   "outputs": [
    {
     "name": "stdout",
     "output_type": "stream",
     "text": [
      "          course  credits\n",
      "0     Pandas 101        5\n",
      "3  Cryptozoology        8\n"
     ]
    }
   ],
   "source": [
    "print(my_dataframe.loc[[0,3]])"
   ]
  },
  {
   "cell_type": "markdown",
   "metadata": {},
   "source": [
    "* Using the following Dictionary, create a new Pandas DataFrame\n",
    "    * Use the `named_indexes` variable as the *named indexes* of the DataFrame\n",
    "    * Save this DataFrame as the variable `named_dataframe`\n",
    "    * Then, print the DataFrame to the terminal"
   ]
  },
  {
   "cell_type": "code",
   "execution_count": 70,
   "metadata": {},
   "outputs": [
    {
     "name": "stdout",
     "output_type": "stream",
     "text": [
      "         color  quantity  total cost\n",
      "order1     red         2          20\n",
      "order2    blue         1          10\n",
      "order3   green         2          20\n",
      "order4  purple         3          30\n"
     ]
    }
   ],
   "source": [
    "# Create a DataFrame with named indexes\n",
    "order_dictionary = {\n",
    "    'color': [\"red\",\"blue\",\"green\",\"purple\"],\n",
    "    'quantity': [2,1,2,3],\n",
    "    'total cost': [20,10,20,30]\n",
    "}\n",
    "\n",
    "named_indexes = [\"order1\",\"order2\",\"order3\", \"order4\"]\n",
    "\n",
    "named_dataframe = pd.DataFrame(order_dictionary, index=named_indexes)\n",
    "\n",
    "print(named_dataframe)"
   ]
  },
  {
   "cell_type": "markdown",
   "metadata": {},
   "source": [
    "* Locate the row at the index `order4`, and print it to the terminal"
   ]
  },
  {
   "cell_type": "code",
   "execution_count": 71,
   "metadata": {},
   "outputs": [
    {
     "name": "stdout",
     "output_type": "stream",
     "text": [
      "color         purple\n",
      "quantity           3\n",
      "total cost        30\n",
      "Name: order4, dtype: object\n"
     ]
    }
   ],
   "source": [
    "# Access a specific row using .loc with named index\n",
    "print(named_dataframe.loc[\"order4\"])"
   ]
  },
  {
   "cell_type": "markdown",
   "metadata": {},
   "source": [
    "## Analyzing DataFrames\n",
    "##### Use your `named_dataframe` variable for the following questions\n",
    "* Print the **first three rows** of the DataFrame to the terminal"
   ]
  },
  {
   "cell_type": "code",
   "execution_count": 72,
   "metadata": {},
   "outputs": [
    {
     "data": {
      "text/html": [
       "<div>\n",
       "<style scoped>\n",
       "    .dataframe tbody tr th:only-of-type {\n",
       "        vertical-align: middle;\n",
       "    }\n",
       "\n",
       "    .dataframe tbody tr th {\n",
       "        vertical-align: top;\n",
       "    }\n",
       "\n",
       "    .dataframe thead th {\n",
       "        text-align: right;\n",
       "    }\n",
       "</style>\n",
       "<table border=\"1\" class=\"dataframe\">\n",
       "  <thead>\n",
       "    <tr style=\"text-align: right;\">\n",
       "      <th></th>\n",
       "      <th>color</th>\n",
       "      <th>quantity</th>\n",
       "      <th>total cost</th>\n",
       "    </tr>\n",
       "  </thead>\n",
       "  <tbody>\n",
       "    <tr>\n",
       "      <th>order1</th>\n",
       "      <td>red</td>\n",
       "      <td>2</td>\n",
       "      <td>20</td>\n",
       "    </tr>\n",
       "    <tr>\n",
       "      <th>order2</th>\n",
       "      <td>blue</td>\n",
       "      <td>1</td>\n",
       "      <td>10</td>\n",
       "    </tr>\n",
       "    <tr>\n",
       "      <th>order3</th>\n",
       "      <td>green</td>\n",
       "      <td>2</td>\n",
       "      <td>20</td>\n",
       "    </tr>\n",
       "  </tbody>\n",
       "</table>\n",
       "</div>"
      ],
      "text/plain": [
       "        color  quantity  total cost\n",
       "order1    red         2          20\n",
       "order2   blue         1          10\n",
       "order3  green         2          20"
      ]
     },
     "execution_count": 72,
     "metadata": {},
     "output_type": "execute_result"
    }
   ],
   "source": [
    "named_dataframe.head(3)"
   ]
  },
  {
   "cell_type": "markdown",
   "metadata": {},
   "source": [
    "* Print the **last row** of the DataFrame to the terminal"
   ]
  },
  {
   "cell_type": "code",
   "execution_count": 73,
   "metadata": {},
   "outputs": [
    {
     "data": {
      "text/html": [
       "<div>\n",
       "<style scoped>\n",
       "    .dataframe tbody tr th:only-of-type {\n",
       "        vertical-align: middle;\n",
       "    }\n",
       "\n",
       "    .dataframe tbody tr th {\n",
       "        vertical-align: top;\n",
       "    }\n",
       "\n",
       "    .dataframe thead th {\n",
       "        text-align: right;\n",
       "    }\n",
       "</style>\n",
       "<table border=\"1\" class=\"dataframe\">\n",
       "  <thead>\n",
       "    <tr style=\"text-align: right;\">\n",
       "      <th></th>\n",
       "      <th>color</th>\n",
       "      <th>quantity</th>\n",
       "      <th>total cost</th>\n",
       "    </tr>\n",
       "  </thead>\n",
       "  <tbody>\n",
       "    <tr>\n",
       "      <th>order3</th>\n",
       "      <td>green</td>\n",
       "      <td>2</td>\n",
       "      <td>20</td>\n",
       "    </tr>\n",
       "    <tr>\n",
       "      <th>order4</th>\n",
       "      <td>purple</td>\n",
       "      <td>3</td>\n",
       "      <td>30</td>\n",
       "    </tr>\n",
       "  </tbody>\n",
       "</table>\n",
       "</div>"
      ],
      "text/plain": [
       "         color  quantity  total cost\n",
       "order3   green         2          20\n",
       "order4  purple         3          30"
      ]
     },
     "execution_count": 73,
     "metadata": {},
     "output_type": "execute_result"
    }
   ],
   "source": [
    "named_dataframe.tail(2)"
   ]
  },
  {
   "cell_type": "markdown",
   "metadata": {},
   "source": [
    "* Use the appropriate function to display the **data type** of each column in our DataFrame"
   ]
  },
  {
   "cell_type": "code",
   "execution_count": 74,
   "metadata": {},
   "outputs": [
    {
     "data": {
      "text/plain": [
       "color         object\n",
       "quantity       int64\n",
       "total cost     int64\n",
       "dtype: object"
      ]
     },
     "execution_count": 74,
     "metadata": {},
     "output_type": "execute_result"
    }
   ],
   "source": [
    "named_dataframe.dtypes"
   ]
  },
  {
   "cell_type": "markdown",
   "metadata": {},
   "source": [
    "### **BONUS:** DataFrames from .csv Files\n",
    "* Use Pandas to import the file `pandas_in_action.csv` into a DataFrame\n",
    "    * Name this variable `csv_dataframe`\n",
    "    * Use the `id` column as the **index column** for your DataFrame\n",
    "    * Then, print this DataFrame to the terminal"
   ]
  },
  {
   "cell_type": "code",
   "execution_count": 75,
   "metadata": {},
   "outputs": [
    {
     "name": "stdout",
     "output_type": "stream",
     "text": [
      "                 country      capital_city                         region  \\\n",
      "id                                                                          \n",
      "1                 Mexico       Mexico City                  North America   \n",
      "2              Australia          Canberra        Australia & New Zealand   \n",
      "3                Denmark        Copenhagen                 Western Europe   \n",
      "4   United Arab Emirates         Abu Dhabi  Middle East & Northern Africa   \n",
      "5                Finland          Helsinki                 Western Europe   \n",
      "6             Costa Rica          San Jose      Latin America & Caribbean   \n",
      "7          United States  Washington, D.C.                  North America   \n",
      "8                Iceland         Reykjavik                 Western Europe   \n",
      "9             Luxembourg   Luxembourg City                 Western Europe   \n",
      "10               Belgium          Brussels                 Western Europe   \n",
      "11                Israel         Jerusalem  Middle East & Northern Africa   \n",
      "12           New Zealand        Wellington        Australia & New Zealand   \n",
      "13               Austria            Vienna                 Western Europe   \n",
      "14                Canada            Ottawa                  North America   \n",
      "15                Sweden         Stockholm                 Western Europe   \n",
      "16                Brazil          Brasilia      Latin America & Caribbean   \n",
      "17           Switzerland              Bern                 Western Europe   \n",
      "18               Ireland            Dublin                 Western Europe   \n",
      "19           Netherlands         Amsterdam                 Western Europe   \n",
      "20                Norway              Oslo                 Western Europe   \n",
      "\n",
      "    population_in_millions  happiness_rank  \n",
      "id                                          \n",
      "1                   126.01              14  \n",
      "2                    26.02              10  \n",
      "3                     5.87               3  \n",
      "4                     9.28              20  \n",
      "5                     5.54               6  \n",
      "6                     5.09              12  \n",
      "7                   331.90              15  \n",
      "8                     0.37               2  \n",
      "9                     0.65              17  \n",
      "10                   11.49              19  \n",
      "11                    9.53              11  \n",
      "12                    5.13               9  \n",
      "13                    9.03              13  \n",
      "14                   38.52               5  \n",
      "15                   10.40               8  \n",
      "16                  214.05              16  \n",
      "17                    8.57               1  \n",
      "18                    6.57              18  \n",
      "19                   17.73               7  \n",
      "20                    5.42               4  \n"
     ]
    }
   ],
   "source": [
    "csv_dataframe = pd.read_csv(\"pandas_in_action.csv\", index_col = \"id\")\n",
    "print(csv_dataframe)"
   ]
  },
  {
   "cell_type": "markdown",
   "metadata": {},
   "source": [
    "* Use the appropriate function to display the **information** about the DataFrame"
   ]
  },
  {
   "cell_type": "code",
   "execution_count": 76,
   "metadata": {},
   "outputs": [
    {
     "name": "stdout",
     "output_type": "stream",
     "text": [
      "<class 'pandas.core.frame.DataFrame'>\n",
      "Int64Index: 20 entries, 1 to 20\n",
      "Data columns (total 5 columns):\n",
      " #   Column                  Non-Null Count  Dtype  \n",
      "---  ------                  --------------  -----  \n",
      " 0   country                 20 non-null     object \n",
      " 1   capital_city            20 non-null     object \n",
      " 2   region                  20 non-null     object \n",
      " 3   population_in_millions  20 non-null     float64\n",
      " 4   happiness_rank          20 non-null     int64  \n",
      "dtypes: float64(1), int64(1), object(3)\n",
      "memory usage: 960.0+ bytes\n"
     ]
    }
   ],
   "source": [
    "csv_dataframe.info()"
   ]
  },
  {
   "cell_type": "markdown",
   "metadata": {},
   "source": [
    "* Use the appropriate function to display the **first five rows** of the DataFrame"
   ]
  },
  {
   "cell_type": "code",
   "execution_count": 77,
   "metadata": {},
   "outputs": [
    {
     "data": {
      "text/html": [
       "<div>\n",
       "<style scoped>\n",
       "    .dataframe tbody tr th:only-of-type {\n",
       "        vertical-align: middle;\n",
       "    }\n",
       "\n",
       "    .dataframe tbody tr th {\n",
       "        vertical-align: top;\n",
       "    }\n",
       "\n",
       "    .dataframe thead th {\n",
       "        text-align: right;\n",
       "    }\n",
       "</style>\n",
       "<table border=\"1\" class=\"dataframe\">\n",
       "  <thead>\n",
       "    <tr style=\"text-align: right;\">\n",
       "      <th></th>\n",
       "      <th>country</th>\n",
       "      <th>capital_city</th>\n",
       "      <th>region</th>\n",
       "      <th>population_in_millions</th>\n",
       "      <th>happiness_rank</th>\n",
       "    </tr>\n",
       "    <tr>\n",
       "      <th>id</th>\n",
       "      <th></th>\n",
       "      <th></th>\n",
       "      <th></th>\n",
       "      <th></th>\n",
       "      <th></th>\n",
       "    </tr>\n",
       "  </thead>\n",
       "  <tbody>\n",
       "    <tr>\n",
       "      <th>1</th>\n",
       "      <td>Mexico</td>\n",
       "      <td>Mexico City</td>\n",
       "      <td>North America</td>\n",
       "      <td>126.01</td>\n",
       "      <td>14</td>\n",
       "    </tr>\n",
       "    <tr>\n",
       "      <th>2</th>\n",
       "      <td>Australia</td>\n",
       "      <td>Canberra</td>\n",
       "      <td>Australia &amp; New Zealand</td>\n",
       "      <td>26.02</td>\n",
       "      <td>10</td>\n",
       "    </tr>\n",
       "    <tr>\n",
       "      <th>3</th>\n",
       "      <td>Denmark</td>\n",
       "      <td>Copenhagen</td>\n",
       "      <td>Western Europe</td>\n",
       "      <td>5.87</td>\n",
       "      <td>3</td>\n",
       "    </tr>\n",
       "    <tr>\n",
       "      <th>4</th>\n",
       "      <td>United Arab Emirates</td>\n",
       "      <td>Abu Dhabi</td>\n",
       "      <td>Middle East &amp; Northern Africa</td>\n",
       "      <td>9.28</td>\n",
       "      <td>20</td>\n",
       "    </tr>\n",
       "    <tr>\n",
       "      <th>5</th>\n",
       "      <td>Finland</td>\n",
       "      <td>Helsinki</td>\n",
       "      <td>Western Europe</td>\n",
       "      <td>5.54</td>\n",
       "      <td>6</td>\n",
       "    </tr>\n",
       "  </tbody>\n",
       "</table>\n",
       "</div>"
      ],
      "text/plain": [
       "                 country capital_city                         region  \\\n",
       "id                                                                     \n",
       "1                 Mexico  Mexico City                  North America   \n",
       "2              Australia     Canberra        Australia & New Zealand   \n",
       "3                Denmark   Copenhagen                 Western Europe   \n",
       "4   United Arab Emirates    Abu Dhabi  Middle East & Northern Africa   \n",
       "5                Finland     Helsinki                 Western Europe   \n",
       "\n",
       "    population_in_millions  happiness_rank  \n",
       "id                                          \n",
       "1                   126.01              14  \n",
       "2                    26.02              10  \n",
       "3                     5.87               3  \n",
       "4                     9.28              20  \n",
       "5                     5.54               6  "
      ]
     },
     "execution_count": 77,
     "metadata": {},
     "output_type": "execute_result"
    }
   ],
   "source": [
    "csv_dataframe.head()"
   ]
  },
  {
   "cell_type": "markdown",
   "metadata": {},
   "source": [
    "* Currently, our DataFrame is sorted by the `id` column\n",
    "    * Sort the DataFrame by the `happiness_rank` column, so we can easily see the top-rated countries for `happiness_rank`\n",
    "    * Then, print the **top three rows** of the DataFrame to the terminal\n",
    "    * **HINT: Chaining methods will be useful for this question!**"
   ]
  },
  {
   "cell_type": "code",
   "execution_count": 78,
   "metadata": {},
   "outputs": [
    {
     "data": {
      "text/html": [
       "<div>\n",
       "<style scoped>\n",
       "    .dataframe tbody tr th:only-of-type {\n",
       "        vertical-align: middle;\n",
       "    }\n",
       "\n",
       "    .dataframe tbody tr th {\n",
       "        vertical-align: top;\n",
       "    }\n",
       "\n",
       "    .dataframe thead th {\n",
       "        text-align: right;\n",
       "    }\n",
       "</style>\n",
       "<table border=\"1\" class=\"dataframe\">\n",
       "  <thead>\n",
       "    <tr style=\"text-align: right;\">\n",
       "      <th></th>\n",
       "      <th>country</th>\n",
       "      <th>capital_city</th>\n",
       "      <th>region</th>\n",
       "      <th>population_in_millions</th>\n",
       "      <th>happiness_rank</th>\n",
       "    </tr>\n",
       "    <tr>\n",
       "      <th>id</th>\n",
       "      <th></th>\n",
       "      <th></th>\n",
       "      <th></th>\n",
       "      <th></th>\n",
       "      <th></th>\n",
       "    </tr>\n",
       "  </thead>\n",
       "  <tbody>\n",
       "    <tr>\n",
       "      <th>17</th>\n",
       "      <td>Switzerland</td>\n",
       "      <td>Bern</td>\n",
       "      <td>Western Europe</td>\n",
       "      <td>8.57</td>\n",
       "      <td>1</td>\n",
       "    </tr>\n",
       "    <tr>\n",
       "      <th>8</th>\n",
       "      <td>Iceland</td>\n",
       "      <td>Reykjavik</td>\n",
       "      <td>Western Europe</td>\n",
       "      <td>0.37</td>\n",
       "      <td>2</td>\n",
       "    </tr>\n",
       "    <tr>\n",
       "      <th>3</th>\n",
       "      <td>Denmark</td>\n",
       "      <td>Copenhagen</td>\n",
       "      <td>Western Europe</td>\n",
       "      <td>5.87</td>\n",
       "      <td>3</td>\n",
       "    </tr>\n",
       "  </tbody>\n",
       "</table>\n",
       "</div>"
      ],
      "text/plain": [
       "        country capital_city          region  population_in_millions  \\\n",
       "id                                                                     \n",
       "17  Switzerland         Bern  Western Europe                    8.57   \n",
       "8       Iceland    Reykjavik  Western Europe                    0.37   \n",
       "3       Denmark   Copenhagen  Western Europe                    5.87   \n",
       "\n",
       "    happiness_rank  \n",
       "id                  \n",
       "17               1  \n",
       "8                2  \n",
       "3                3  "
      ]
     },
     "execution_count": 78,
     "metadata": {},
     "output_type": "execute_result"
    }
   ],
   "source": [
    "csv_dataframe.sort_values(\"happiness_rank\").head(3)"
   ]
  },
  {
   "cell_type": "markdown",
   "metadata": {},
   "source": [
    "* Sort the DataFrame again by the `happiness_rank`, this time storing the result in a new variable `sorted_csv_dataframe`\n",
    "    * Then, print the **top three rows** of the DataFrame to the terminal"
   ]
  },
  {
   "cell_type": "code",
   "execution_count": 79,
   "metadata": {},
   "outputs": [
    {
     "data": {
      "text/html": [
       "<div>\n",
       "<style scoped>\n",
       "    .dataframe tbody tr th:only-of-type {\n",
       "        vertical-align: middle;\n",
       "    }\n",
       "\n",
       "    .dataframe tbody tr th {\n",
       "        vertical-align: top;\n",
       "    }\n",
       "\n",
       "    .dataframe thead th {\n",
       "        text-align: right;\n",
       "    }\n",
       "</style>\n",
       "<table border=\"1\" class=\"dataframe\">\n",
       "  <thead>\n",
       "    <tr style=\"text-align: right;\">\n",
       "      <th></th>\n",
       "      <th>country</th>\n",
       "      <th>capital_city</th>\n",
       "      <th>region</th>\n",
       "      <th>population_in_millions</th>\n",
       "      <th>happiness_rank</th>\n",
       "    </tr>\n",
       "    <tr>\n",
       "      <th>id</th>\n",
       "      <th></th>\n",
       "      <th></th>\n",
       "      <th></th>\n",
       "      <th></th>\n",
       "      <th></th>\n",
       "    </tr>\n",
       "  </thead>\n",
       "  <tbody>\n",
       "    <tr>\n",
       "      <th>17</th>\n",
       "      <td>Switzerland</td>\n",
       "      <td>Bern</td>\n",
       "      <td>Western Europe</td>\n",
       "      <td>8.57</td>\n",
       "      <td>1</td>\n",
       "    </tr>\n",
       "    <tr>\n",
       "      <th>8</th>\n",
       "      <td>Iceland</td>\n",
       "      <td>Reykjavik</td>\n",
       "      <td>Western Europe</td>\n",
       "      <td>0.37</td>\n",
       "      <td>2</td>\n",
       "    </tr>\n",
       "    <tr>\n",
       "      <th>3</th>\n",
       "      <td>Denmark</td>\n",
       "      <td>Copenhagen</td>\n",
       "      <td>Western Europe</td>\n",
       "      <td>5.87</td>\n",
       "      <td>3</td>\n",
       "    </tr>\n",
       "  </tbody>\n",
       "</table>\n",
       "</div>"
      ],
      "text/plain": [
       "        country capital_city          region  population_in_millions  \\\n",
       "id                                                                     \n",
       "17  Switzerland         Bern  Western Europe                    8.57   \n",
       "8       Iceland    Reykjavik  Western Europe                    0.37   \n",
       "3       Denmark   Copenhagen  Western Europe                    5.87   \n",
       "\n",
       "    happiness_rank  \n",
       "id                  \n",
       "17               1  \n",
       "8                2  \n",
       "3                3  "
      ]
     },
     "execution_count": 79,
     "metadata": {},
     "output_type": "execute_result"
    }
   ],
   "source": [
    "sorted_csv_dataframe = csv_dataframe.sort_values(\"happiness_rank\")\n",
    "sorted_csv_dataframe.head(3)"
   ]
  },
  {
   "cell_type": "markdown",
   "metadata": {},
   "source": [
    "* **Using your new variable `sorted_csv_dataframe`**\n",
    "    * Print the 5 countries with the **largest population** to the terminal"
   ]
  },
  {
   "cell_type": "code",
   "execution_count": 80,
   "metadata": {},
   "outputs": [
    {
     "data": {
      "text/html": [
       "<div>\n",
       "<style scoped>\n",
       "    .dataframe tbody tr th:only-of-type {\n",
       "        vertical-align: middle;\n",
       "    }\n",
       "\n",
       "    .dataframe tbody tr th {\n",
       "        vertical-align: top;\n",
       "    }\n",
       "\n",
       "    .dataframe thead th {\n",
       "        text-align: right;\n",
       "    }\n",
       "</style>\n",
       "<table border=\"1\" class=\"dataframe\">\n",
       "  <thead>\n",
       "    <tr style=\"text-align: right;\">\n",
       "      <th></th>\n",
       "      <th>country</th>\n",
       "      <th>capital_city</th>\n",
       "      <th>region</th>\n",
       "      <th>population_in_millions</th>\n",
       "      <th>happiness_rank</th>\n",
       "    </tr>\n",
       "    <tr>\n",
       "      <th>id</th>\n",
       "      <th></th>\n",
       "      <th></th>\n",
       "      <th></th>\n",
       "      <th></th>\n",
       "      <th></th>\n",
       "    </tr>\n",
       "  </thead>\n",
       "  <tbody>\n",
       "    <tr>\n",
       "      <th>7</th>\n",
       "      <td>United States</td>\n",
       "      <td>Washington, D.C.</td>\n",
       "      <td>North America</td>\n",
       "      <td>331.90</td>\n",
       "      <td>15</td>\n",
       "    </tr>\n",
       "    <tr>\n",
       "      <th>16</th>\n",
       "      <td>Brazil</td>\n",
       "      <td>Brasilia</td>\n",
       "      <td>Latin America &amp; Caribbean</td>\n",
       "      <td>214.05</td>\n",
       "      <td>16</td>\n",
       "    </tr>\n",
       "    <tr>\n",
       "      <th>1</th>\n",
       "      <td>Mexico</td>\n",
       "      <td>Mexico City</td>\n",
       "      <td>North America</td>\n",
       "      <td>126.01</td>\n",
       "      <td>14</td>\n",
       "    </tr>\n",
       "    <tr>\n",
       "      <th>14</th>\n",
       "      <td>Canada</td>\n",
       "      <td>Ottawa</td>\n",
       "      <td>North America</td>\n",
       "      <td>38.52</td>\n",
       "      <td>5</td>\n",
       "    </tr>\n",
       "    <tr>\n",
       "      <th>2</th>\n",
       "      <td>Australia</td>\n",
       "      <td>Canberra</td>\n",
       "      <td>Australia &amp; New Zealand</td>\n",
       "      <td>26.02</td>\n",
       "      <td>10</td>\n",
       "    </tr>\n",
       "  </tbody>\n",
       "</table>\n",
       "</div>"
      ],
      "text/plain": [
       "          country      capital_city                     region  \\\n",
       "id                                                               \n",
       "7   United States  Washington, D.C.              North America   \n",
       "16         Brazil          Brasilia  Latin America & Caribbean   \n",
       "1          Mexico       Mexico City              North America   \n",
       "14         Canada            Ottawa              North America   \n",
       "2       Australia          Canberra    Australia & New Zealand   \n",
       "\n",
       "    population_in_millions  happiness_rank  \n",
       "id                                          \n",
       "7                   331.90              15  \n",
       "16                  214.05              16  \n",
       "1                   126.01              14  \n",
       "14                   38.52               5  \n",
       "2                    26.02              10  "
      ]
     },
     "execution_count": 80,
     "metadata": {},
     "output_type": "execute_result"
    }
   ],
   "source": [
    "sorted_csv_dataframe.sort_values(\"population_in_millions\", ascending=False).head()"
   ]
  },
  {
   "cell_type": "markdown",
   "metadata": {},
   "source": [
    "* Use the appropriate function to print the **number of unique values within each column** of your sorted DataFrame to the terminal"
   ]
  },
  {
   "cell_type": "code",
   "execution_count": 81,
   "metadata": {},
   "outputs": [
    {
     "data": {
      "text/plain": [
       "country                   20\n",
       "capital_city              20\n",
       "region                     5\n",
       "population_in_millions    20\n",
       "happiness_rank            20\n",
       "dtype: int64"
      ]
     },
     "execution_count": 81,
     "metadata": {},
     "output_type": "execute_result"
    }
   ],
   "source": [
    "sorted_csv_dataframe.nunique()"
   ]
  },
  {
   "cell_type": "markdown",
   "metadata": {},
   "source": [
    "* Select *just* the columns `\"country\"` and `\"happiness_rank\"`, and print them to the terminal"
   ]
  },
  {
   "cell_type": "code",
   "execution_count": 82,
   "metadata": {},
   "outputs": [
    {
     "data": {
      "text/html": [
       "<div>\n",
       "<style scoped>\n",
       "    .dataframe tbody tr th:only-of-type {\n",
       "        vertical-align: middle;\n",
       "    }\n",
       "\n",
       "    .dataframe tbody tr th {\n",
       "        vertical-align: top;\n",
       "    }\n",
       "\n",
       "    .dataframe thead th {\n",
       "        text-align: right;\n",
       "    }\n",
       "</style>\n",
       "<table border=\"1\" class=\"dataframe\">\n",
       "  <thead>\n",
       "    <tr style=\"text-align: right;\">\n",
       "      <th></th>\n",
       "      <th>country</th>\n",
       "      <th>happiness_rank</th>\n",
       "    </tr>\n",
       "    <tr>\n",
       "      <th>id</th>\n",
       "      <th></th>\n",
       "      <th></th>\n",
       "    </tr>\n",
       "  </thead>\n",
       "  <tbody>\n",
       "    <tr>\n",
       "      <th>17</th>\n",
       "      <td>Switzerland</td>\n",
       "      <td>1</td>\n",
       "    </tr>\n",
       "    <tr>\n",
       "      <th>8</th>\n",
       "      <td>Iceland</td>\n",
       "      <td>2</td>\n",
       "    </tr>\n",
       "    <tr>\n",
       "      <th>3</th>\n",
       "      <td>Denmark</td>\n",
       "      <td>3</td>\n",
       "    </tr>\n",
       "    <tr>\n",
       "      <th>20</th>\n",
       "      <td>Norway</td>\n",
       "      <td>4</td>\n",
       "    </tr>\n",
       "    <tr>\n",
       "      <th>14</th>\n",
       "      <td>Canada</td>\n",
       "      <td>5</td>\n",
       "    </tr>\n",
       "    <tr>\n",
       "      <th>5</th>\n",
       "      <td>Finland</td>\n",
       "      <td>6</td>\n",
       "    </tr>\n",
       "    <tr>\n",
       "      <th>19</th>\n",
       "      <td>Netherlands</td>\n",
       "      <td>7</td>\n",
       "    </tr>\n",
       "    <tr>\n",
       "      <th>15</th>\n",
       "      <td>Sweden</td>\n",
       "      <td>8</td>\n",
       "    </tr>\n",
       "    <tr>\n",
       "      <th>12</th>\n",
       "      <td>New Zealand</td>\n",
       "      <td>9</td>\n",
       "    </tr>\n",
       "    <tr>\n",
       "      <th>2</th>\n",
       "      <td>Australia</td>\n",
       "      <td>10</td>\n",
       "    </tr>\n",
       "    <tr>\n",
       "      <th>11</th>\n",
       "      <td>Israel</td>\n",
       "      <td>11</td>\n",
       "    </tr>\n",
       "    <tr>\n",
       "      <th>6</th>\n",
       "      <td>Costa Rica</td>\n",
       "      <td>12</td>\n",
       "    </tr>\n",
       "    <tr>\n",
       "      <th>13</th>\n",
       "      <td>Austria</td>\n",
       "      <td>13</td>\n",
       "    </tr>\n",
       "    <tr>\n",
       "      <th>1</th>\n",
       "      <td>Mexico</td>\n",
       "      <td>14</td>\n",
       "    </tr>\n",
       "    <tr>\n",
       "      <th>7</th>\n",
       "      <td>United States</td>\n",
       "      <td>15</td>\n",
       "    </tr>\n",
       "    <tr>\n",
       "      <th>16</th>\n",
       "      <td>Brazil</td>\n",
       "      <td>16</td>\n",
       "    </tr>\n",
       "    <tr>\n",
       "      <th>9</th>\n",
       "      <td>Luxembourg</td>\n",
       "      <td>17</td>\n",
       "    </tr>\n",
       "    <tr>\n",
       "      <th>18</th>\n",
       "      <td>Ireland</td>\n",
       "      <td>18</td>\n",
       "    </tr>\n",
       "    <tr>\n",
       "      <th>10</th>\n",
       "      <td>Belgium</td>\n",
       "      <td>19</td>\n",
       "    </tr>\n",
       "    <tr>\n",
       "      <th>4</th>\n",
       "      <td>United Arab Emirates</td>\n",
       "      <td>20</td>\n",
       "    </tr>\n",
       "  </tbody>\n",
       "</table>\n",
       "</div>"
      ],
      "text/plain": [
       "                 country  happiness_rank\n",
       "id                                      \n",
       "17           Switzerland               1\n",
       "8                Iceland               2\n",
       "3                Denmark               3\n",
       "20                Norway               4\n",
       "14                Canada               5\n",
       "5                Finland               6\n",
       "19           Netherlands               7\n",
       "15                Sweden               8\n",
       "12           New Zealand               9\n",
       "2              Australia              10\n",
       "11                Israel              11\n",
       "6             Costa Rica              12\n",
       "13               Austria              13\n",
       "1                 Mexico              14\n",
       "7          United States              15\n",
       "16                Brazil              16\n",
       "9             Luxembourg              17\n",
       "18               Ireland              18\n",
       "10               Belgium              19\n",
       "4   United Arab Emirates              20"
      ]
     },
     "execution_count": 82,
     "metadata": {},
     "output_type": "execute_result"
    }
   ],
   "source": [
    "sorted_csv_dataframe[[\"country\",\"happiness_rank\"]]"
   ]
  },
  {
   "cell_type": "markdown",
   "metadata": {},
   "source": [
    "* Filter your DataFrame using the `\"region\"` column\n",
    "    * Find all countries listed from the region `\"Latin America & Caribbean\"`\n",
    "    * Print this filtered DataFrame to the terminal"
   ]
  },
  {
   "cell_type": "code",
   "execution_count": 83,
   "metadata": {},
   "outputs": [
    {
     "data": {
      "text/html": [
       "<div>\n",
       "<style scoped>\n",
       "    .dataframe tbody tr th:only-of-type {\n",
       "        vertical-align: middle;\n",
       "    }\n",
       "\n",
       "    .dataframe tbody tr th {\n",
       "        vertical-align: top;\n",
       "    }\n",
       "\n",
       "    .dataframe thead th {\n",
       "        text-align: right;\n",
       "    }\n",
       "</style>\n",
       "<table border=\"1\" class=\"dataframe\">\n",
       "  <thead>\n",
       "    <tr style=\"text-align: right;\">\n",
       "      <th></th>\n",
       "      <th>country</th>\n",
       "      <th>capital_city</th>\n",
       "      <th>region</th>\n",
       "      <th>population_in_millions</th>\n",
       "      <th>happiness_rank</th>\n",
       "    </tr>\n",
       "    <tr>\n",
       "      <th>id</th>\n",
       "      <th></th>\n",
       "      <th></th>\n",
       "      <th></th>\n",
       "      <th></th>\n",
       "      <th></th>\n",
       "    </tr>\n",
       "  </thead>\n",
       "  <tbody>\n",
       "    <tr>\n",
       "      <th>6</th>\n",
       "      <td>Costa Rica</td>\n",
       "      <td>San Jose</td>\n",
       "      <td>Latin America &amp; Caribbean</td>\n",
       "      <td>5.09</td>\n",
       "      <td>12</td>\n",
       "    </tr>\n",
       "    <tr>\n",
       "      <th>16</th>\n",
       "      <td>Brazil</td>\n",
       "      <td>Brasilia</td>\n",
       "      <td>Latin America &amp; Caribbean</td>\n",
       "      <td>214.05</td>\n",
       "      <td>16</td>\n",
       "    </tr>\n",
       "  </tbody>\n",
       "</table>\n",
       "</div>"
      ],
      "text/plain": [
       "       country capital_city                     region  \\\n",
       "id                                                       \n",
       "6   Costa Rica     San Jose  Latin America & Caribbean   \n",
       "16      Brazil     Brasilia  Latin America & Caribbean   \n",
       "\n",
       "    population_in_millions  happiness_rank  \n",
       "id                                          \n",
       "6                     5.09              12  \n",
       "16                  214.05              16  "
      ]
     },
     "execution_count": 83,
     "metadata": {},
     "output_type": "execute_result"
    }
   ],
   "source": [
    "sorted_csv_dataframe[\"region\"] == \"Latin America & Caribbean\"\n",
    "sorted_csv_dataframe[sorted_csv_dataframe[\"region\"] == \"Latin America & Caribbean\"]"
   ]
  },
  {
   "cell_type": "markdown",
   "metadata": {},
   "source": [
    "* Finally, export your sorted DataFrame as a *new* .csv file\n",
    "    * Use the parameter `encoding='utf-8'` to specify the encoding type of the .csv file \n",
    "    * Name this file `cleaned_pandas_in_action.csv`"
   ]
  },
  {
   "cell_type": "code",
   "execution_count": 84,
   "metadata": {},
   "outputs": [],
   "source": [
    "sorted_csv_dataframe.to_csv(\"cleaned_pandas_in_action.csv\",encoding='utf-8')"
   ]
  }
 ],
 "metadata": {
  "kernelspec": {
   "display_name": "Python 3.10.5 64-bit",
   "language": "python",
   "name": "python3"
  },
  "language_info": {
   "codemirror_mode": {
    "name": "ipython",
    "version": 3
   },
   "file_extension": ".py",
   "mimetype": "text/x-python",
   "name": "python",
   "nbconvert_exporter": "python",
   "pygments_lexer": "ipython3",
   "version": "3.10.5"
  },
  "orig_nbformat": 4,
  "vscode": {
   "interpreter": {
    "hash": "991b4f12e3cd7e62d84ec965b56412c4354ac1fe6297d96f50a80e713193dd77"
   }
  }
 },
 "nbformat": 4,
 "nbformat_minor": 2
}
